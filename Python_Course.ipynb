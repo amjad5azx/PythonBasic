{
  "nbformat": 4,
  "nbformat_minor": 0,
  "metadata": {
    "colab": {
      "provenance": [],
      "authorship_tag": "ABX9TyPyJVnDzFirULy58o4VoTwz",
      "include_colab_link": true
    },
    "kernelspec": {
      "name": "python3",
      "display_name": "Python 3"
    },
    "language_info": {
      "name": "python"
    }
  },
  "cells": [
    {
      "cell_type": "markdown",
      "metadata": {
        "id": "view-in-github",
        "colab_type": "text"
      },
      "source": [
        "<a href=\"https://colab.research.google.com/github/amjad5azx/PythonBasic/blob/main/Python_Course.ipynb\" target=\"_parent\"><img src=\"https://colab.research.google.com/assets/colab-badge.svg\" alt=\"Open In Colab\"/></a>"
      ]
    },
    {
      "cell_type": "markdown",
      "source": [
        "**Modules:**\n",
        "Modules use to borrow code from someone else which means you can us someone else code with the help of modules.\n",
        "\n",
        "**Types of modules:**\n",
        "\n",
        "**1)\tBuilt In Modules:** These modules are ship along with python programming language\n",
        "\n",
        "**2)\tExternal Modules:** These modules are written by other people.\n",
        "\n",
        "\n"
      ],
      "metadata": {
        "id": "7IJENoULq2Dh"
      }
    },
    {
      "cell_type": "markdown",
      "source": [
        "**Python Comments**\n",
        "\n",
        "A comment is a section of a coding file that the programmer does not want to execute; rather, the programmer uses it to explain a block of code or to avoid executing a specific section of code during testing.\n",
        "\n",
        "**Single-Line Comments:**\n",
        "\n",
        "To write a comment just add a ‘#’ at the start of the line."
      ],
      "metadata": {
        "id": "5k8JzkhorFYB"
      }
    },
    {
      "cell_type": "code",
      "source": [
        "#This is a 'Single-Line Comment'\n",
        "print(\"This is a print statement.\")"
      ],
      "metadata": {
        "colab": {
          "base_uri": "https://localhost:8080/"
        },
        "id": "ouL4kVVsrEu0",
        "outputId": "061def1e-98c1-4b00-bbd7-6bd98652d8a0"
      },
      "execution_count": null,
      "outputs": [
        {
          "output_type": "stream",
          "name": "stdout",
          "text": [
            "This is a print statement.\n"
          ]
        }
      ]
    },
    {
      "cell_type": "markdown",
      "source": [
        "**Multi-Line Comments:**\n",
        "\n",
        "To write multi-line comments you can use ‘#’ at each line or you can use the multiline string.\n",
        "\n"
      ],
      "metadata": {
        "id": "mt-hKMrprpCO"
      }
    },
    {
      "cell_type": "code",
      "source": [
        "\"\"\"This is an if-else statement.\n",
        "It will execute a block of code if a specified condition is true.\n",
        "If the condition is false then it will execute another block of code.\"\"\"\n",
        "p = 7\n",
        "if (p > 5):\n",
        "    print(\"p is greater than 5.\")\n",
        "else:\n",
        "    print(\"p is not greater than 5.\")"
      ],
      "metadata": {
        "colab": {
          "base_uri": "https://localhost:8080/"
        },
        "id": "oWJnsw7br9gA",
        "outputId": "e58c4e72-f2f4-4b69-b169-1e7116726446"
      },
      "execution_count": null,
      "outputs": [
        {
          "output_type": "stream",
          "name": "stdout",
          "text": [
            "p is greater than 5.\n"
          ]
        }
      ]
    },
    {
      "cell_type": "markdown",
      "source": [
        "**Escape Sequence Characters**\n",
        "\n",
        "To insert characters that cannot be directly used in a string, we use an escape sequence character.\n",
        "\n",
        "An escape sequence character is a backslash \\ followed by the character you want to insert."
      ],
      "metadata": {
        "id": "njJh6KqjsLZB"
      }
    },
    {
      "cell_type": "code",
      "source": [
        "#print(\"This doesnt \"execute\")\n",
        "print(\"This will \\\" execute\")"
      ],
      "metadata": {
        "colab": {
          "base_uri": "https://localhost:8080/"
        },
        "id": "EreCqYsQsogO",
        "outputId": "8cee4000-f70d-48fc-9df4-4066b34d71af"
      },
      "execution_count": null,
      "outputs": [
        {
          "output_type": "stream",
          "name": "stdout",
          "text": [
            "This will \" execute\n"
          ]
        }
      ]
    },
    {
      "cell_type": "markdown",
      "source": [
        "**More on Print statement**\n",
        "\n",
        "The syntax of a print statement looks something like this:\n",
        "\n",
        "print(object(s), sep=separator, end=end, file=file, flush=flush)\n",
        "\n"
      ],
      "metadata": {
        "id": "RXZMmpuHt0Jo"
      }
    },
    {
      "cell_type": "markdown",
      "source": [
        "**Other Parameters of Print Statement**\n",
        "\n",
        "object(s): Any object, and as many as you like. Will be converted to string before printed\n",
        "\n",
        "sep='separator': Specify how to separate the objects, if there is more than one. Default is ' '\n",
        "\n",
        "end='end': Specify what to print at the end. Default is '\\n' (line feed)\n",
        "\n",
        "file: An object with a write method. Default is sys.stdout\n",
        "\n",
        "Parameters 2 to 4 are optional"
      ],
      "metadata": {
        "id": "6RNzXB8Yt_Iu"
      }
    },
    {
      "cell_type": "code",
      "source": [
        "print('Hello','Hi',sep=',')\n",
        "print('Hi',6,3,6,sep='!',end='\\t')#new print statement will be started with tab instead of new line due to end parameter containing tab\n",
        "print(\"hello\")"
      ],
      "metadata": {
        "colab": {
          "base_uri": "https://localhost:8080/"
        },
        "id": "HloEiQyjuWkq",
        "outputId": "53a1b048-64c0-4841-d57f-e5578fc4120d"
      },
      "execution_count": null,
      "outputs": [
        {
          "output_type": "stream",
          "name": "stdout",
          "text": [
            "Hello,Hi\n",
            "Hi!6!3!6\thello\n"
          ]
        }
      ]
    },
    {
      "cell_type": "markdown",
      "source": [
        "**Day 6 - Variables and Data Types**"
      ],
      "metadata": {
        "id": "8_437jPw4BF_"
      }
    },
    {
      "cell_type": "markdown",
      "source": [
        "**What is a variable?**\n",
        "\n",
        "Variable is like a container that holds data.\n",
        "\n",
        "**What is a Data Type?**\n",
        "\n",
        "Data type specifies the type of value a variable holds."
      ],
      "metadata": {
        "id": "hmFSxBM94EkF"
      }
    },
    {
      "cell_type": "markdown",
      "source": [
        "In python, we can print the type of any operator using type function:"
      ],
      "metadata": {
        "id": "qhRFquNs4bas"
      }
    },
    {
      "cell_type": "code",
      "source": [
        "a = 1\n",
        "b = True\n",
        "c = \"Harry\"\n",
        "d = None"
      ],
      "metadata": {
        "id": "jzB_1T2k-GRh"
      },
      "execution_count": null,
      "outputs": []
    },
    {
      "cell_type": "code",
      "source": [
        "print(type(a))\n",
        "print(type(b))\n",
        "print(type(c))\n",
        "print(type(d))"
      ],
      "metadata": {
        "colab": {
          "base_uri": "https://localhost:8080/"
        },
        "id": "yciSFoQJ96rJ",
        "outputId": "de64d403-ab53-4303-a968-e64f22084a64"
      },
      "execution_count": null,
      "outputs": [
        {
          "output_type": "stream",
          "name": "stdout",
          "text": [
            "<class 'int'>\n",
            "<class 'bool'>\n",
            "<class 'str'>\n",
            "<class 'NoneType'>\n"
          ]
        }
      ]
    },
    {
      "cell_type": "code",
      "source": [
        "print(type(6))"
      ],
      "metadata": {
        "colab": {
          "base_uri": "https://localhost:8080/"
        },
        "id": "-MDEiFee4c-V",
        "outputId": "b53732f6-e099-4bac-cbd0-b3211d17fb59"
      },
      "execution_count": null,
      "outputs": [
        {
          "output_type": "stream",
          "name": "stdout",
          "text": [
            "<class 'int'>\n"
          ]
        }
      ]
    },
    {
      "cell_type": "markdown",
      "source": [
        "**1. Numeric data: int, float, complex**\n",
        "\n",
        "int: 3, -8, 0\n",
        "\n",
        "float: 7.349, -9.0, 0.0000001\n",
        "\n",
        "complex: 6 + 2i"
      ],
      "metadata": {
        "id": "0IETdxXi4rIB"
      }
    },
    {
      "cell_type": "code",
      "source": [
        "num=1\n",
        "floatnum=3.4\n",
        "com_num=2+5j\n",
        "com_num2=complex(2,6)\n",
        "print(num,floatnum,com_num,com_num2)"
      ],
      "metadata": {
        "colab": {
          "base_uri": "https://localhost:8080/"
        },
        "id": "tKJdo6id789I",
        "outputId": "7474d029-05be-4b47-ed28-e49ad17b10f8"
      },
      "execution_count": null,
      "outputs": [
        {
          "output_type": "stream",
          "name": "stdout",
          "text": [
            "1 3.4 (2+5j) (2+6j)\n"
          ]
        }
      ]
    },
    {
      "cell_type": "code",
      "source": [
        "print(type(com_num))\n",
        "print(type(com_num2))"
      ],
      "metadata": {
        "colab": {
          "base_uri": "https://localhost:8080/"
        },
        "id": "DlsSbl3J8SzZ",
        "outputId": "68d37bf7-8510-47d9-b917-ac37cb3a0fea"
      },
      "execution_count": null,
      "outputs": [
        {
          "output_type": "stream",
          "name": "stdout",
          "text": [
            "<class 'complex'>\n",
            "<class 'complex'>\n"
          ]
        }
      ]
    },
    {
      "cell_type": "markdown",
      "source": [
        "**2. Text data: str**\n",
        "\n",
        "str: \"Hello World!!!\", \"Python Programming\"\n",
        "\n",
        "**3. Boolean data:**\n",
        "\n",
        "Boolean data consists of values True or False."
      ],
      "metadata": {
        "id": "LnbSrNql41F8"
      }
    },
    {
      "cell_type": "markdown",
      "source": [
        "**4. Sequenced data: list, tuple**\n",
        "\n",
        "**list:** A list is an ordered collection of data with elements separated by a comma and enclosed within square brackets.\n",
        "Lists are mutable and can be modified after creation."
      ],
      "metadata": {
        "id": "VnYODasX5QJf"
      }
    },
    {
      "cell_type": "code",
      "source": [
        "list1=[1,2,'Amjad',(1,2)]\n",
        "print(list1)"
      ],
      "metadata": {
        "colab": {
          "base_uri": "https://localhost:8080/"
        },
        "id": "RtC70_vT6jsV",
        "outputId": "328780f0-91b3-4f22-81b8-a72865aec83b"
      },
      "execution_count": null,
      "outputs": [
        {
          "output_type": "stream",
          "name": "stdout",
          "text": [
            "[1, 2, 'Amjad', (1, 2)]\n"
          ]
        }
      ]
    },
    {
      "cell_type": "markdown",
      "source": [
        "**Tuple:** A tuple is an ordered collection of data with elements separated by a comma and enclosed within parentheses.\n",
        "Tuples are immutable and can not be modified after creation."
      ],
      "metadata": {
        "id": "-b20ZtDf6jFw"
      }
    },
    {
      "cell_type": "code",
      "source": [
        "tuple1=(1,2,('AMJAD'),'ali')\n",
        "print(tuple1)\n",
        "tuple1 = ((\"parrot\", \"sparrow\"), (\"Lion\", \"Tiger\"))\n",
        "print(tuple1)"
      ],
      "metadata": {
        "colab": {
          "base_uri": "https://localhost:8080/"
        },
        "id": "eiag_bUp6xTt",
        "outputId": "a6bc3c94-8cd5-4f43-8aaf-fe290ca46790"
      },
      "execution_count": null,
      "outputs": [
        {
          "output_type": "stream",
          "name": "stdout",
          "text": [
            "(1, 2, 'AMJAD', 'ali')\n",
            "(('parrot', 'sparrow'), ('Lion', 'Tiger'))\n"
          ]
        }
      ]
    },
    {
      "cell_type": "markdown",
      "source": [
        "**5. Mapped data: dict**\n",
        "\n",
        "**dict:** A dictionary is an unordered collection of data containing a key:value pair. The key:value pairs are enclosed within curly brackets."
      ],
      "metadata": {
        "id": "r12FA4KA7Pfc"
      }
    },
    {
      "cell_type": "code",
      "source": [
        "dict1={'Name':'Amjad','Class':9}\n",
        "print(dict1['Name'])\n",
        "print(dict1['Class'])\n",
        "print(dict1)"
      ],
      "metadata": {
        "colab": {
          "base_uri": "https://localhost:8080/"
        },
        "id": "4EK7fQ6z7X6I",
        "outputId": "df4b3e27-1fe8-4a60-9194-6982694d3d67"
      },
      "execution_count": null,
      "outputs": [
        {
          "output_type": "stream",
          "name": "stdout",
          "text": [
            "Amjad\n",
            "9\n",
            "{'Name': 'Amjad', 'Class': 9}\n"
          ]
        }
      ]
    },
    {
      "cell_type": "markdown",
      "source": [
        "**Operators**\n",
        "\n",
        "\n",
        "+\tAddition\t15+7\n",
        "-\tSubtraction\t15-7\n",
        "*\tMultiplication\t5*7\n",
        "**Exponential\t5**3\n",
        "\n",
        "/\tDivision\t5/3\n",
        "\n",
        "%\tModulus\t15%7\n",
        "\n",
        "//\tFloor Division\t15//7"
      ],
      "metadata": {
        "id": "TYUwmc-nguhW"
      }
    },
    {
      "cell_type": "code",
      "source": [
        "n = 15\n",
        "m = 7\n",
        "ans1 = n+m\n",
        "print(\"Addition of\",n,\"and\",m,\"is\", ans1)\n",
        "ans2 = n-m\n",
        "print(\"Subtraction of\",n,\"and\",m,\"is\", ans2)\n",
        "ans3 = n*m\n",
        "print(\"Multiplication of\",n,\"and\",m,\"is\", ans3)\n",
        "ans4 = n/m\n",
        "print(\"Division of\",n,\"and\",m,\"is\", ans4)\n",
        "ans5 = n%m\n",
        "print(\"Modulus of\",n,\"and\",m,\"is\", ans5)\n",
        "ans6 = n//m\n",
        "print(\"Floor Division of\",n,\"and\",m,\"is\", ans6)\n",
        "ans7=2**3\n",
        "print('exponential anser is ',ans7)"
      ],
      "metadata": {
        "colab": {
          "base_uri": "https://localhost:8080/"
        },
        "id": "yBXEhbHEhCcO",
        "outputId": "91ee385d-1a7b-4b0e-db3b-7c17157f333f"
      },
      "execution_count": null,
      "outputs": [
        {
          "output_type": "stream",
          "name": "stdout",
          "text": [
            "Addition of 15 and 7 is 22\n",
            "Subtraction of 15 and 7 is 8\n",
            "Multiplication of 15 and 7 is 105\n",
            "Division of 15 and 7 is 2.142857142857143\n",
            "Modulus of 15 and 7 is 1\n",
            "Floor Division of 15 and 7 is 2\n",
            "exponential anser is  8\n"
          ]
        }
      ]
    },
    {
      "cell_type": "markdown",
      "source": [
        "**Excercise 1: Calculator**"
      ],
      "metadata": {
        "id": "EWHkl8j0ggkt"
      }
    },
    {
      "cell_type": "code",
      "source": [
        "a=5\n",
        "b=3\n",
        "print('Addition: ',(a+b))\n",
        "print('Subtraction: ',(a-b))\n",
        "print('Multiplication: ',(a*b))\n",
        "print('Division: ',(a/b))\n",
        "print('Modulus: ',(a%b))\n",
        "print('Floor Division',(a//b))\n",
        "print('Exponential: ',a**2)"
      ],
      "metadata": {
        "colab": {
          "base_uri": "https://localhost:8080/"
        },
        "id": "4xvxhy2Qgjf6",
        "outputId": "f4a9e664-35dd-4ffe-e301-4b29c350d1b9"
      },
      "execution_count": null,
      "outputs": [
        {
          "output_type": "stream",
          "name": "stdout",
          "text": [
            "Addition:  8\n",
            "Subtraction:  2\n",
            "Multiplication:  15\n",
            "Division:  1.6666666666666667\n",
            "Modulus:  2\n",
            "Floor Division 1\n",
            "Exponential:  25\n"
          ]
        }
      ]
    },
    {
      "cell_type": "markdown",
      "source": [
        "**Typecasting in python**\n",
        "\n",
        "The conversion of one data type into the other data type is known as type casting in python or type conversion in python\n",
        "\n",
        "Python supports a wide variety of functions or methods like: int(), float(), str(), ord(), hex(), oct(), tuple(), set(), list(), dict(), etc. for the type casting in python.\n",
        "\n",
        "**Types of Typecasting:**\n",
        "\n",
        "Explicit Conversion (Explicit type casting in python)\n",
        "\n",
        "Implicit Conversion (Implicit type casting in python)."
      ],
      "metadata": {
        "id": "tQ11sBO8iqtl"
      }
    },
    {
      "cell_type": "markdown",
      "source": [
        "\n",
        "**Explicit Conversion (Explicit type casting in python):**\n",
        "\n",
        "Explicit type casting refers to the deliberate conversion of a value from one data type to another using specific functions or methods.\n",
        "\n",
        "It can be achieved with the help of Python’s built-in type conversion functions such as int(), float(), hex(), oct(), str(), etc ."
      ],
      "metadata": {
        "id": "kovvLI3XjLw8"
      }
    },
    {
      "cell_type": "code",
      "source": [
        "a=13\n",
        "print(type(a))\n",
        "a=str(a)\n",
        "print(type(a))"
      ],
      "metadata": {
        "colab": {
          "base_uri": "https://localhost:8080/"
        },
        "id": "HUBKY_SqkIWB",
        "outputId": "86ebc45a-c885-4328-b398-5ab99213adc9"
      },
      "execution_count": null,
      "outputs": [
        {
          "output_type": "stream",
          "name": "stdout",
          "text": [
            "<class 'int'>\n",
            "<class 'str'>\n"
          ]
        }
      ]
    },
    {
      "cell_type": "code",
      "source": [
        "a=\"12\"\n",
        "b=\"13\"\n",
        "print(a+b)\n",
        "print(int(a)+int(b))"
      ],
      "metadata": {
        "colab": {
          "base_uri": "https://localhost:8080/"
        },
        "id": "FjcZFMBOkxqO",
        "outputId": "e6c3033a-2611-45e2-fe00-5fa91439df75"
      },
      "execution_count": null,
      "outputs": [
        {
          "output_type": "stream",
          "name": "stdout",
          "text": [
            "1213\n",
            "25\n"
          ]
        }
      ]
    },
    {
      "cell_type": "markdown",
      "source": [
        "**Implicit Conversion (Implicit type casting in python):**\n",
        "\n",
        "Implicit type casting, also known as type coercion, happens automatically in programming languages like Python.\n",
        "\n",
        "When different data types are mixed in operations, the language automatically converts them to a common type so that the operation can be performed. For example, if you add an integer and a floating-point number, the language might automatically convert the integer to a float before the addition. This helps prevent errors and makes code more flexible."
      ],
      "metadata": {
        "id": "rAr3vpJtjtNv"
      }
    },
    {
      "cell_type": "code",
      "source": [
        "a=13\n",
        "b=1.3\n",
        "c=b+a\n",
        "print(type(a))\n",
        "print(type(b))\n",
        "print(type(c))"
      ],
      "metadata": {
        "colab": {
          "base_uri": "https://localhost:8080/"
        },
        "id": "bsGsUyGxkUF4",
        "outputId": "92194fd4-4a48-4134-98ea-56dd89f534f8"
      },
      "execution_count": null,
      "outputs": [
        {
          "output_type": "stream",
          "name": "stdout",
          "text": [
            "<class 'int'>\n",
            "<class 'float'>\n",
            "<class 'float'>\n"
          ]
        }
      ]
    },
    {
      "cell_type": "markdown",
      "source": [
        "**Taking Input**\n",
        "\n",
        "In python we can take input by using input() method as shown below:"
      ],
      "metadata": {
        "id": "K00jMV7OmbGo"
      }
    },
    {
      "cell_type": "code",
      "source": [
        "a=input('Enter your name: ')\n",
        "print(a)"
      ],
      "metadata": {
        "colab": {
          "base_uri": "https://localhost:8080/"
        },
        "id": "hl8EKtDkmlAz",
        "outputId": "1b08b7a0-9942-451f-a90b-3523ed282c5f"
      },
      "execution_count": null,
      "outputs": [
        {
          "output_type": "stream",
          "name": "stdout",
          "text": [
            "Enter your name: Amjad\n",
            "Amjad\n"
          ]
        }
      ]
    },
    {
      "cell_type": "markdown",
      "source": [
        "But the problem is that input method return value in only string we have to convert it to required data type by typecasting"
      ],
      "metadata": {
        "id": "j7JJZyE8mrq0"
      }
    },
    {
      "cell_type": "code",
      "source": [
        "a=input('Enter number: ')\n",
        "print('a= ',a,':',type(a))\n",
        "b=int(input('Enter Number: '))\n",
        "print('b= ',b,':',type(b))"
      ],
      "metadata": {
        "colab": {
          "base_uri": "https://localhost:8080/"
        },
        "id": "v2tBTx0Bm33p",
        "outputId": "81caf8fd-6888-41f0-ad4d-4dc3ceaf65b8"
      },
      "execution_count": null,
      "outputs": [
        {
          "output_type": "stream",
          "name": "stdout",
          "text": [
            "Enter number: 3\n",
            "a=  3 : <class 'str'>\n",
            "Enter Number: 3\n",
            "b=  3 : <class 'int'>\n"
          ]
        }
      ]
    },
    {
      "cell_type": "markdown",
      "source": [
        "**Strings**\n",
        "\n",
        "In python, anything that you enclose between single or double quotation marks is considered a string.\n",
        "\n",
        " A string is essentially a sequence or array of textual data.\n",
        "\n",
        " Strings are used when working with Unicode characters.\n",
        "\n",
        " **Note:** It does not matter whether you enclose your strings in single or double quotes, the output remains the same."
      ],
      "metadata": {
        "id": "XApsSZmbAJkp"
      }
    },
    {
      "cell_type": "code",
      "source": [
        "name = \"Harry\"\n",
        "print(\"Hello, \" + name)"
      ],
      "metadata": {
        "colab": {
          "base_uri": "https://localhost:8080/"
        },
        "id": "1Bhv4pTSAbYE",
        "outputId": "66a3cd22-9034-4751-9c7b-16b3f3f6496b"
      },
      "execution_count": null,
      "outputs": [
        {
          "output_type": "stream",
          "name": "stdout",
          "text": [
            "Hello, Harry\n"
          ]
        }
      ]
    },
    {
      "cell_type": "markdown",
      "source": [
        "How will you print this statement in python?: He said, \"I want to eat an apple\".\n",
        "\n",
        "We will definitely use single quotes for our convenience"
      ],
      "metadata": {
        "id": "-1h879aQAtqI"
      }
    },
    {
      "cell_type": "code",
      "source": [
        "print('He said, \"I want to eat an apple\".')"
      ],
      "metadata": {
        "colab": {
          "base_uri": "https://localhost:8080/"
        },
        "id": "YOOI8esaAomD",
        "outputId": "6c34a040-3599-498b-d941-303f18686de7"
      },
      "execution_count": null,
      "outputs": [
        {
          "output_type": "stream",
          "name": "stdout",
          "text": [
            "He said, \"I want to eat an apple\".\n"
          ]
        }
      ]
    },
    {
      "cell_type": "markdown",
      "source": [
        "**Multiline Strings**\n",
        "\n",
        "If our string has multiple lines, we can create them like this:"
      ],
      "metadata": {
        "id": "b-K317r_AzWi"
      }
    },
    {
      "cell_type": "code",
      "source": [
        "str='''\n",
        "hello I am Muhammad Amjad\n",
        "'''\n",
        "\n",
        "print(str)"
      ],
      "metadata": {
        "colab": {
          "base_uri": "https://localhost:8080/"
        },
        "id": "jqaILiEBA3Zv",
        "outputId": "9964525a-4875-4f02-aba3-fc7a08ac5c56"
      },
      "execution_count": null,
      "outputs": [
        {
          "output_type": "stream",
          "name": "stdout",
          "text": [
            "\n",
            "hello I am Muhammad Amjad\n",
            "\n"
          ]
        }
      ]
    },
    {
      "cell_type": "markdown",
      "source": [
        "**Accessing Characters of a String**\n",
        "\n",
        "A string in Python is a collection of characters structured in an array-like form. It is possible to obtain certain parts of the text by using the index, which starts at 0."
      ],
      "metadata": {
        "id": "p6HpooncBBfr"
      }
    },
    {
      "cell_type": "code",
      "source": [
        "name='Amjad'\n",
        "print(name[0])\n",
        "print(name[1])"
      ],
      "metadata": {
        "colab": {
          "base_uri": "https://localhost:8080/"
        },
        "id": "mksgfWdlBh69",
        "outputId": "8f5242bb-ccaa-4dea-db76-24505d83c1be"
      },
      "execution_count": null,
      "outputs": [
        {
          "output_type": "stream",
          "name": "stdout",
          "text": [
            "A\n",
            "m\n"
          ]
        }
      ]
    },
    {
      "cell_type": "markdown",
      "source": [
        "**Looping through the string**\n",
        "\n",
        "We can loop through strings using a for loop like this:"
      ],
      "metadata": {
        "id": "Ui6-8fsgBru1"
      }
    },
    {
      "cell_type": "code",
      "source": [
        "for character in name:\n",
        "    print(character)"
      ],
      "metadata": {
        "colab": {
          "base_uri": "https://localhost:8080/"
        },
        "id": "Cgs5sPLMBvq-",
        "outputId": "ac2eb8f7-6428-49fc-c319-2ef1b5b25155"
      },
      "execution_count": null,
      "outputs": [
        {
          "output_type": "stream",
          "name": "stdout",
          "text": [
            "A\n",
            "m\n",
            "j\n",
            "a\n",
            "d\n"
          ]
        }
      ]
    },
    {
      "cell_type": "markdown",
      "source": [
        "**String Slicing & Operations on String**"
      ],
      "metadata": {
        "id": "ACYEtdpcCdVr"
      }
    },
    {
      "cell_type": "markdown",
      "source": [
        "**Length of a String**\n",
        "\n",
        "We can find the length of a string using len() function.\n",
        "\n"
      ],
      "metadata": {
        "id": "29ffEnunCit0"
      }
    },
    {
      "cell_type": "code",
      "source": [
        "name='AMJAD'\n",
        "\n",
        "print(len(name))"
      ],
      "metadata": {
        "colab": {
          "base_uri": "https://localhost:8080/"
        },
        "id": "Gnkwsxx5CiSm",
        "outputId": "7cf04e6b-9e9d-4af7-e52c-c6aa3aaaa6ac"
      },
      "execution_count": null,
      "outputs": [
        {
          "output_type": "stream",
          "name": "stdout",
          "text": [
            "5\n"
          ]
        }
      ]
    },
    {
      "cell_type": "markdown",
      "source": [
        "**String as an array**\n",
        "\n",
        "A string is essentially a sequence of characters also called an array. Thus we can access the elements of this array."
      ],
      "metadata": {
        "id": "uhvFDoqEC5SA"
      }
    },
    {
      "cell_type": "code",
      "source": [
        "name='Amjad'\n",
        "\n",
        "print(name[:2])#this will print only first two elements\n",
        "print(name[1])#this will print element ata index 1"
      ],
      "metadata": {
        "colab": {
          "base_uri": "https://localhost:8080/"
        },
        "id": "GES_JodHDDEk",
        "outputId": "0f0c5e84-fd5b-4caa-d642-c4ead6151176"
      },
      "execution_count": null,
      "outputs": [
        {
          "output_type": "stream",
          "name": "stdout",
          "text": [
            "Am\n",
            "m\n"
          ]
        }
      ]
    },
    {
      "cell_type": "markdown",
      "source": [
        "**Note:** This method of specifying the start and end index to specify a part of a string is called slicing."
      ],
      "metadata": {
        "id": "GwifKQQbDdgx"
      }
    },
    {
      "cell_type": "code",
      "source": [
        "name='Muhammad Amjad'\n",
        "print(name[:5])#print 5 eleemnts from starting\n",
        "print(name[5:])#print all elements except starting 5\n",
        "print(name[1:5])#print all elements between 1 and 5 index. It does not print 1 and 5 index elements\n",
        "print(name[-5:])#print 5 eleemnts from end\n",
        "print(name[:-5])#print all elements except ending 5\n",
        "print(name[-5:-2])##print all elements between 5 and 2 index from end. It also 5 index elements from end"
      ],
      "metadata": {
        "colab": {
          "base_uri": "https://localhost:8080/"
        },
        "id": "uVX5VfdwDgr3",
        "outputId": "ede022b6-8c1f-4a55-a6f5-99589afb1e66"
      },
      "execution_count": null,
      "outputs": [
        {
          "output_type": "stream",
          "name": "stdout",
          "text": [
            "Muham\n",
            "mad Amjad\n",
            "uham\n",
            "Amjad\n",
            "Muhammad \n",
            "Amj\n"
          ]
        }
      ]
    },
    {
      "cell_type": "markdown",
      "source": [
        "**String methods**\n",
        "\n",
        "Python provides a set of built-in methods that we can use to alter and modify the strings.\n"
      ],
      "metadata": {
        "id": "xIHkMDVsFmNm"
      }
    },
    {
      "cell_type": "markdown",
      "source": [
        "**upper() :**\n",
        "\n",
        "The upper() method converts a string to upper case."
      ],
      "metadata": {
        "id": "FYUjCZMgFtwL"
      }
    },
    {
      "cell_type": "code",
      "source": [
        "name='Amjad'\n",
        "print(name.upper())"
      ],
      "metadata": {
        "colab": {
          "base_uri": "https://localhost:8080/"
        },
        "id": "FOWcZVSKF4yB",
        "outputId": "97fd22b8-b6c5-411f-98c9-a0b114988959"
      },
      "execution_count": null,
      "outputs": [
        {
          "output_type": "stream",
          "name": "stdout",
          "text": [
            "AMJAD\n"
          ]
        }
      ]
    },
    {
      "cell_type": "markdown",
      "source": [
        "**lower():**\n",
        "\n",
        "The lower() method converts a string to lower case."
      ],
      "metadata": {
        "id": "3v2tLg4vGDTO"
      }
    },
    {
      "cell_type": "code",
      "source": [
        "name='Amjad'\n",
        "print(name.lower())"
      ],
      "metadata": {
        "colab": {
          "base_uri": "https://localhost:8080/"
        },
        "id": "7Ct7i6mMGKKu",
        "outputId": "8500ecd9-ec49-4efb-fb68-bec9b330cf3d"
      },
      "execution_count": null,
      "outputs": [
        {
          "output_type": "stream",
          "name": "stdout",
          "text": [
            "amjad\n"
          ]
        }
      ]
    },
    {
      "cell_type": "markdown",
      "source": [
        "**strip() :**\n",
        "\n",
        "The strip() method removes any white spaces before and after the string."
      ],
      "metadata": {
        "id": "0sNF1zJ6GUgp"
      }
    },
    {
      "cell_type": "code",
      "source": [
        "name='           Muhammad Amjad from BSE           '\n",
        "print(name.strip())"
      ],
      "metadata": {
        "colab": {
          "base_uri": "https://localhost:8080/"
        },
        "id": "X6v3Oaq1GY0R",
        "outputId": "98de81d4-1cbf-48e5-f67e-74ef4fe906ba"
      },
      "execution_count": null,
      "outputs": [
        {
          "output_type": "stream",
          "name": "stdout",
          "text": [
            "Muhammad Amjad from BSE\n"
          ]
        }
      ]
    },
    {
      "cell_type": "markdown",
      "source": [
        "**rstrip() :**\n",
        "\n",
        "The rstrip() function removes any characters at the end of a string."
      ],
      "metadata": {
        "id": "YMkhVt7cGreQ"
      }
    },
    {
      "cell_type": "code",
      "source": [
        "name='Amjad!!!!!!!!!!!'\n",
        "print(name.rstrip('!'))"
      ],
      "metadata": {
        "colab": {
          "base_uri": "https://localhost:8080/"
        },
        "id": "uLM7OCrVG6we",
        "outputId": "03d3163c-d3e2-4f27-c1cc-500d8fcc49ee"
      },
      "execution_count": null,
      "outputs": [
        {
          "output_type": "stream",
          "name": "stdout",
          "text": [
            "Amjad\n"
          ]
        }
      ]
    },
    {
      "cell_type": "markdown",
      "source": [
        "**replace() :**\n",
        "\n",
        "You can use the replace() method to replace all occurrences of a specific string with a different one."
      ],
      "metadata": {
        "id": "oYYt8AwzHKwI"
      }
    },
    {
      "cell_type": "code",
      "source": [
        "name='Muhammad,Amjad'\n",
        "print(name.replace(',',' '))"
      ],
      "metadata": {
        "colab": {
          "base_uri": "https://localhost:8080/"
        },
        "id": "dIWEZAdJHQNN",
        "outputId": "0344ce39-a9fe-4f17-b626-5fa6a1deb8c1"
      },
      "execution_count": null,
      "outputs": [
        {
          "output_type": "stream",
          "name": "stdout",
          "text": [
            "Muhammad Amjad\n"
          ]
        }
      ]
    },
    {
      "cell_type": "markdown",
      "source": [
        "**split() :**\n",
        "\n",
        "When you use the split() method, it separates the given string at a specified location and returns the divided strings as items in a list."
      ],
      "metadata": {
        "id": "drnavayfJPFS"
      }
    },
    {
      "cell_type": "code",
      "source": [
        "name='Muhammad Amjad'\n",
        "print(name.split(' '))"
      ],
      "metadata": {
        "colab": {
          "base_uri": "https://localhost:8080/"
        },
        "id": "Jmav4APBKX8S",
        "outputId": "a91e8924-9f99-40ee-e0ef-84130485169e"
      },
      "execution_count": null,
      "outputs": [
        {
          "output_type": "stream",
          "name": "stdout",
          "text": [
            "['Muhammad', 'Amjad']\n"
          ]
        }
      ]
    },
    {
      "cell_type": "markdown",
      "source": [
        "**capitalize() :**\n",
        "\n",
        "The capitalize() method converts only the first character of a string to uppercase, while the remaining characters are converted to lowercase. If the initial character is already uppercase, the string has no impact."
      ],
      "metadata": {
        "id": "eHwZkypjKjS7"
      }
    },
    {
      "cell_type": "code",
      "source": [
        "name='Muhammad Amjad'\n",
        "print(name.capitalize())"
      ],
      "metadata": {
        "colab": {
          "base_uri": "https://localhost:8080/"
        },
        "id": "YXuXm-QeKskC",
        "outputId": "63b01acc-854f-4e14-acbe-b8c7767d00de"
      },
      "execution_count": null,
      "outputs": [
        {
          "output_type": "stream",
          "name": "stdout",
          "text": [
            "Muhammad amjad\n"
          ]
        }
      ]
    },
    {
      "cell_type": "markdown",
      "source": [
        "**`center() :`**\n",
        "\n",
        "The center() method aligns the string to the center as per the parameters given by the user."
      ],
      "metadata": {
        "id": "k7mHvx02K9dy"
      }
    },
    {
      "cell_type": "code",
      "source": [
        "name='Amjad'\n",
        "print(name.center(3))\n",
        "print(len(name.center(3)))"
      ],
      "metadata": {
        "colab": {
          "base_uri": "https://localhost:8080/"
        },
        "id": "DmLN__hPLEpT",
        "outputId": "3d238b39-c833-4772-9af6-a76b082b454b"
      },
      "execution_count": null,
      "outputs": [
        {
          "output_type": "stream",
          "name": "stdout",
          "text": [
            "Amjad\n",
            "5\n"
          ]
        }
      ]
    },
    {
      "cell_type": "markdown",
      "source": [
        "We can also provide padding characters. It will fill in the remaining fill characters supplied by the user."
      ],
      "metadata": {
        "id": "A4cX1sfeLcrv"
      }
    },
    {
      "cell_type": "code",
      "source": [
        "name='Amjad'\n",
        "print(name.center(7,'.'))"
      ],
      "metadata": {
        "colab": {
          "base_uri": "https://localhost:8080/"
        },
        "id": "R-RLs3CDLfBC",
        "outputId": "e0308c8a-d417-4c1f-f570-b4d75f74869d"
      },
      "execution_count": null,
      "outputs": [
        {
          "output_type": "stream",
          "name": "stdout",
          "text": [
            ".Amjad.\n"
          ]
        }
      ]
    },
    {
      "cell_type": "markdown",
      "source": [
        "**count() :**\n",
        "\n",
        "The count() method returns the number of times of the provided value in the given string."
      ],
      "metadata": {
        "id": "IEkSgSyqLx2P"
      }
    },
    {
      "cell_type": "code",
      "source": [
        "name='amjad'\n",
        "print(name.count('a'))"
      ],
      "metadata": {
        "colab": {
          "base_uri": "https://localhost:8080/"
        },
        "id": "BwGLwq1NL-5E",
        "outputId": "c91a9b46-d825-4d04-d197-0029c9f17ef6"
      },
      "execution_count": null,
      "outputs": [
        {
          "output_type": "stream",
          "name": "stdout",
          "text": [
            "2\n"
          ]
        }
      ]
    },
    {
      "cell_type": "markdown",
      "source": [
        "**endswith() :**\n",
        "\n",
        "The endswith() method checks if the string ends with a given value. If yes then return True, else return False."
      ],
      "metadata": {
        "id": "-vqnVLaqMQIH"
      }
    },
    {
      "cell_type": "code",
      "source": [
        "name='Amjad'\n",
        "print(name.endswith('a'))\n",
        "print(name.endswith('d'))"
      ],
      "metadata": {
        "colab": {
          "base_uri": "https://localhost:8080/"
        },
        "id": "nAelTZbLMUHN",
        "outputId": "c216b33e-858c-424c-ceb9-9197eb417075"
      },
      "execution_count": null,
      "outputs": [
        {
          "output_type": "stream",
          "name": "stdout",
          "text": [
            "False\n",
            "True\n"
          ]
        }
      ]
    },
    {
      "cell_type": "markdown",
      "source": [
        "**find() :**\n",
        "\n",
        "The find() method looks for the first instance of the provided item and returns the index where it can be found. If the specified value is not found in the string, return -1."
      ],
      "metadata": {
        "id": "127RhjJWMhoJ"
      }
    },
    {
      "cell_type": "code",
      "source": [
        "str='why are you here?'\n",
        "print(str.find('y'))\n",
        "print(str.find('z'))"
      ],
      "metadata": {
        "colab": {
          "base_uri": "https://localhost:8080/"
        },
        "id": "d9F1FQJFMzTo",
        "outputId": "d085db19-dc1d-40a9-8beb-2c3d4f0a088a"
      },
      "execution_count": null,
      "outputs": [
        {
          "output_type": "stream",
          "name": "stdout",
          "text": [
            "2\n",
            "-1\n"
          ]
        }
      ]
    },
    {
      "cell_type": "markdown",
      "source": [
        "**index() :**\n",
        "\n",
        "The index() method looks for the initial appearance of a provided value in a string and provides the position where it's found. If the value isn't in the string, it triggers an exception."
      ],
      "metadata": {
        "id": "DkAuGzOKNMUn"
      }
    },
    {
      "cell_type": "code",
      "source": [
        "str='why are you here?'\n",
        "print(str.index('y'))"
      ],
      "metadata": {
        "colab": {
          "base_uri": "https://localhost:8080/"
        },
        "id": "_pgqNrIJNTI9",
        "outputId": "0dd8f450-5d3d-4269-9454-e07ae2e81870"
      },
      "execution_count": null,
      "outputs": [
        {
          "output_type": "stream",
          "name": "stdout",
          "text": [
            "2\n"
          ]
        }
      ]
    },
    {
      "cell_type": "markdown",
      "source": [
        "**Note:** This method is similar to the find() method. The main distinction is that index() throws an error if value is missing, whereas find() does not."
      ],
      "metadata": {
        "id": "XsfPBY22YVpC"
      }
    },
    {
      "cell_type": "code",
      "source": [
        "print(str.index('z'))"
      ],
      "metadata": {
        "id": "tKUKkXoLNaOK",
        "outputId": "c6a406f8-ebb6-4f51-f341-104abf495480",
        "colab": {
          "base_uri": "https://localhost:8080/",
          "height": 175
        }
      },
      "execution_count": null,
      "outputs": [
        {
          "output_type": "error",
          "ename": "ValueError",
          "evalue": "ignored",
          "traceback": [
            "\u001b[0;31m---------------------------------------------------------------------------\u001b[0m",
            "\u001b[0;31mValueError\u001b[0m                                Traceback (most recent call last)",
            "\u001b[0;32m<ipython-input-2-e71fc2de48b4>\u001b[0m in \u001b[0;36m<cell line: 1>\u001b[0;34m()\u001b[0m\n\u001b[0;32m----> 1\u001b[0;31m \u001b[0mprint\u001b[0m\u001b[0;34m(\u001b[0m\u001b[0mstr\u001b[0m\u001b[0;34m.\u001b[0m\u001b[0mindex\u001b[0m\u001b[0;34m(\u001b[0m\u001b[0;34m'z'\u001b[0m\u001b[0;34m)\u001b[0m\u001b[0;34m)\u001b[0m\u001b[0;34m\u001b[0m\u001b[0;34m\u001b[0m\u001b[0m\n\u001b[0m",
            "\u001b[0;31mValueError\u001b[0m: substring not found"
          ]
        }
      ]
    },
    {
      "cell_type": "markdown",
      "source": [
        "**isalnum() :**\n",
        "\n",
        "The isalnum() method returns True only if the entire string only consists of A-Z, a-z, 0-9. If any other characters or punctuations are present, then it returns False."
      ],
      "metadata": {
        "id": "euOSgWF3YflT"
      }
    },
    {
      "cell_type": "code",
      "source": [
        "name='Amjad'\n",
        "str1='Muhammad Amjad'\n",
        "str='hello how are you?'\n",
        "print(name.isalnum())\n",
        "print(str1.isalnum())\n",
        "print(str.isalnum())"
      ],
      "metadata": {
        "colab": {
          "base_uri": "https://localhost:8080/"
        },
        "id": "gYW8BuyiYlc_",
        "outputId": "3e6778bd-8a2a-45e4-f52a-ee8279efec71"
      },
      "execution_count": null,
      "outputs": [
        {
          "output_type": "stream",
          "name": "stdout",
          "text": [
            "True\n",
            "False\n",
            "False\n"
          ]
        }
      ]
    },
    {
      "cell_type": "markdown",
      "source": [
        "**isalpha() :**\n",
        "The isalpha() method returns True only if the entire string only consists of A-Z, a-z. If any other characters or punctuations or numbers(0-9) are present, then it returns False."
      ],
      "metadata": {
        "id": "YAZ5nJqnZCul"
      }
    },
    {
      "cell_type": "code",
      "source": [
        "name='Amjad'\n",
        "username='amjad5azx'\n",
        "str1='Muhammad Amjad'\n",
        "str='hello how are you?'\n",
        "print(name.isalpha())\n",
        "print(username.isalpha())\n",
        "print(str1.isalpha())\n",
        "print(str.isalpha())"
      ],
      "metadata": {
        "colab": {
          "base_uri": "https://localhost:8080/"
        },
        "id": "Swo_T_RYY8JW",
        "outputId": "8fdd0129-7d17-4ab3-d442-b1771ddbce1d"
      },
      "execution_count": null,
      "outputs": [
        {
          "output_type": "stream",
          "name": "stdout",
          "text": [
            "True\n",
            "False\n",
            "False\n",
            "False\n"
          ]
        }
      ]
    },
    {
      "cell_type": "markdown",
      "source": [
        "**islower() :** The islower() method returns True if all the characters in the string are lower case, else it returns False."
      ],
      "metadata": {
        "id": "ErORibO-ZaxV"
      }
    },
    {
      "cell_type": "code",
      "source": [
        "str1='Amjad'\n",
        "str2='amjad'\n",
        "print(str1.islower())\n",
        "print(str2.islower())"
      ],
      "metadata": {
        "colab": {
          "base_uri": "https://localhost:8080/"
        },
        "id": "O9qWE2O9Zgn3",
        "outputId": "bc8cb27d-7662-48f2-a450-ae559b19b2e8"
      },
      "execution_count": null,
      "outputs": [
        {
          "output_type": "stream",
          "name": "stdout",
          "text": [
            "False\n",
            "True\n"
          ]
        }
      ]
    },
    {
      "cell_type": "markdown",
      "source": [
        "**isprintable() :**\n",
        "\n",
        "The isprintable() method returns True if all the values within the given string are printable, if not, then return False."
      ],
      "metadata": {
        "id": "guJ_XYgtZ6OI"
      }
    },
    {
      "cell_type": "code",
      "source": [
        "str1='Hello how are you?'\n",
        "str2='Hello\\thow are you?'\n",
        "print(str1.isprintable())\n",
        "print(str2.isprintable())"
      ],
      "metadata": {
        "colab": {
          "base_uri": "https://localhost:8080/"
        },
        "id": "-XxA48tOZvSh",
        "outputId": "de324e5c-9064-40ef-e695-ff75c4b2beba"
      },
      "execution_count": null,
      "outputs": [
        {
          "output_type": "stream",
          "name": "stdout",
          "text": [
            "True\n",
            "False\n"
          ]
        }
      ]
    },
    {
      "cell_type": "markdown",
      "source": [
        "**isspace() :**\n",
        "\n",
        "The isspace() method returns True only and only if the string contains white spaces, else returns False."
      ],
      "metadata": {
        "id": "UVkddhI0ajyA"
      }
    },
    {
      "cell_type": "code",
      "source": [
        "str1='Muhammad Amjad'\n",
        "str2='Muhammad\\tAmjad'\n",
        "str3='        '\n",
        "print(str1.isspace(),str2.isspace(),str3.isspace())"
      ],
      "metadata": {
        "colab": {
          "base_uri": "https://localhost:8080/"
        },
        "id": "fYOUmq0qauFK",
        "outputId": "677fcd6b-6a4c-47e2-b5bd-1dd8bac24528"
      },
      "execution_count": null,
      "outputs": [
        {
          "output_type": "stream",
          "name": "stdout",
          "text": [
            "False False True\n"
          ]
        }
      ]
    },
    {
      "cell_type": "markdown",
      "source": [
        "**istitle() :**\n",
        "\n",
        "The istitile() returns True only if the first letter of each word of the string is capitalized, else it returns False."
      ],
      "metadata": {
        "id": "8ypeyehybPoy"
      }
    },
    {
      "cell_type": "code",
      "source": [
        "name='Muhammad Amjad'\n",
        "text='New town'\n",
        "print(name.istitle(),text.istitle())"
      ],
      "metadata": {
        "colab": {
          "base_uri": "https://localhost:8080/"
        },
        "id": "abixMMvibR74",
        "outputId": "b671659c-cd40-496f-b132-017f8a34dd0b"
      },
      "execution_count": null,
      "outputs": [
        {
          "output_type": "stream",
          "name": "stdout",
          "text": [
            "True False\n"
          ]
        }
      ]
    },
    {
      "cell_type": "markdown",
      "source": [
        "**isupper() :**\n",
        "\n",
        "The isupper() method returns True if all the characters in the string are upper case, else it returns False."
      ],
      "metadata": {
        "id": "0BNb7I1Tj559"
      }
    },
    {
      "cell_type": "code",
      "source": [
        "name='AMJAD'\n",
        "print(name.isupper())"
      ],
      "metadata": {
        "colab": {
          "base_uri": "https://localhost:8080/"
        },
        "id": "KNAeKTsDj-sc",
        "outputId": "2e287ba4-4470-4c01-eabf-0e7d7ac8c372"
      },
      "execution_count": null,
      "outputs": [
        {
          "output_type": "stream",
          "name": "stdout",
          "text": [
            "True\n"
          ]
        }
      ]
    },
    {
      "cell_type": "markdown",
      "source": [
        "**startswith() :**\n",
        "\n",
        "The endswith() method checks if the string starts with a given value. If yes then return True, else return False."
      ],
      "metadata": {
        "id": "GgScY5Cvkgum"
      }
    },
    {
      "cell_type": "code",
      "source": [
        "text='Hello how are you?'\n",
        "print(text.startswith('Hello'))"
      ],
      "metadata": {
        "colab": {
          "base_uri": "https://localhost:8080/"
        },
        "id": "MSDSBl4TkjIe",
        "outputId": "51381c48-0d2e-41c6-9e4a-739af9af329c"
      },
      "execution_count": null,
      "outputs": [
        {
          "output_type": "stream",
          "name": "stdout",
          "text": [
            "True\n"
          ]
        }
      ]
    },
    {
      "cell_type": "markdown",
      "source": [
        "**swapcase() :**\n",
        "\n",
        "The swapcase() method changes the character casing of the string. Upper case are converted to lower case and lower case to upper case."
      ],
      "metadata": {
        "id": "FilT1GbukwnC"
      }
    },
    {
      "cell_type": "code",
      "source": [
        "text='My name is Muhammad Amjad'\n",
        "print(text.swapcase())"
      ],
      "metadata": {
        "colab": {
          "base_uri": "https://localhost:8080/"
        },
        "id": "qCqKF3gekyvD",
        "outputId": "6b144d2a-3a2d-408a-fb0d-a3c715601a19"
      },
      "execution_count": null,
      "outputs": [
        {
          "output_type": "stream",
          "name": "stdout",
          "text": [
            "mY NAME IS mUHAMMAD aMJAD\n"
          ]
        }
      ]
    },
    {
      "cell_type": "markdown",
      "source": [
        "**title() :**\n",
        "\n",
        "The title() method capitalizes each letter of the word within the string."
      ],
      "metadata": {
        "id": "z6QawDcelB-I"
      }
    },
    {
      "cell_type": "code",
      "source": [
        "text='new text'\n",
        "print(text.title())"
      ],
      "metadata": {
        "colab": {
          "base_uri": "https://localhost:8080/"
        },
        "id": "JSYLezQ0lEJU",
        "outputId": "2837dce1-830e-46fc-93ec-dd2ba5091257"
      },
      "execution_count": null,
      "outputs": [
        {
          "output_type": "stream",
          "name": "stdout",
          "text": [
            "New Text\n"
          ]
        }
      ]
    },
    {
      "cell_type": "markdown",
      "source": [
        "**If-else:**\n",
        "\n",
        "Programmers need to verify whether certain expressions result in True or False during program execution. If False, the program takes an alternative path compared to what it would have taken if the expression was True.\n",
        "\n",
        "Based on this, the conditional statements are further classified into following types:\n",
        "\n",
        "if\n",
        "\n",
        "if-else\n",
        "\n",
        "if-else-elif\n",
        "\n",
        "nested if-else-elif.\n",
        "\n",
        "\n",
        "---\n",
        "\n",
        "\n",
        "**An if……else statement evaluates like this:**\n",
        "\n",
        "**if the expression evaluates True:** Execute the block of code inside if statement. After execution return to the code out of the if……else block.\\\n",
        "\n",
        "**if the expression evaluates False:** Execute the block of code inside else statement. After execution return to the code out of the if……else block.\n",
        "\n"
      ],
      "metadata": {
        "id": "eKFLVE08uZX_"
      }
    },
    {
      "cell_type": "code",
      "source": [
        "# if-else:\n",
        "applePrice = 210\n",
        "budget = 200\n",
        "if (applePrice <= budget):\n",
        "    print(\"Alexa, add 1 kg Apples to the cart.\")\n",
        "else:\n",
        "    print(\"Alexa, do not add Apples to the cart.\")"
      ],
      "metadata": {
        "colab": {
          "base_uri": "https://localhost:8080/"
        },
        "id": "pUXru7yl2kjQ",
        "outputId": "0136d167-6cf9-455b-ef00-f1b75d57f39a"
      },
      "execution_count": null,
      "outputs": [
        {
          "output_type": "stream",
          "name": "stdout",
          "text": [
            "Alexa, do not add Apples to the cart.\n"
          ]
        }
      ]
    },
    {
      "cell_type": "code",
      "source": [
        "# if-else-elif\n",
        "\n",
        "num = int(input(\"Enter the value of num: \"))\n",
        "if (num < 0):\n",
        "  print(\"Number is negative.\")\n",
        "elif (num == 0):\n",
        "  print(\"Number is Zero.\")\n",
        "elif (num == 999):\n",
        "  print(\"Number is Special.\")\n",
        "else:\n",
        "  print(\"Number is positive.\")\n",
        "\n",
        "print(\"I am happy now\")\n"
      ],
      "metadata": {
        "colab": {
          "base_uri": "https://localhost:8080/"
        },
        "id": "hzxq6eLQ2uT9",
        "outputId": "d8833382-6139-4573-eaa1-ac73e3a4779e"
      },
      "execution_count": null,
      "outputs": [
        {
          "output_type": "stream",
          "name": "stdout",
          "text": [
            "Enter the value of num: 4\n",
            "Number is positive.\n",
            "I am happy now\n"
          ]
        }
      ]
    },
    {
      "cell_type": "code",
      "source": [
        "# nested if-else-elif.\n",
        "num = 18\n",
        "if (num < 0):\n",
        "    print(\"Number is negative.\")\n",
        "elif (num > 0):\n",
        "    if (num <= 10):\n",
        "        print(\"Number is between 1-10\")\n",
        "    elif (num > 10 and num <= 20):\n",
        "        print(\"Number is between 11-20\")\n",
        "    else:\n",
        "        print(\"Number is greater than 20\")\n",
        "else:\n",
        "    print(\"Number is zero\")"
      ],
      "metadata": {
        "colab": {
          "base_uri": "https://localhost:8080/"
        },
        "id": "uYqJZtm72zMD",
        "outputId": "a040ce10-d419-4cc2-d415-21378a7204fe"
      },
      "execution_count": null,
      "outputs": [
        {
          "output_type": "stream",
          "name": "stdout",
          "text": [
            "Number is between 11-20\n"
          ]
        }
      ]
    },
    {
      "cell_type": "markdown",
      "source": [
        "**Match Case Statements**\n",
        "\n",
        "In Python, a match case statement is used to achieve functionality similar to switch-case in languages like C, C++, or Java. It compares a variable's value to different patterns until a match is found.\n",
        "\n",
        "The match case consists of three main entities :\n",
        "\n",
        "\n",
        "\n",
        "*   The match keyword\n",
        "*   One or more case clauses\n",
        "* Expression for each case\n",
        "  \n",
        "\n",
        "\n",
        "\n",
        "---\n",
        "**Syntax:**\n",
        "\n",
        "\n",
        "```\n",
        "match variable_name:\n",
        "            case ‘pattern1’ : //statement1\n",
        "            case ‘pattern2’ : //statement2\n",
        "            case ‘pattern n’ : //statement n\n",
        "```\n",
        "\n",
        "\n",
        "\n",
        "            \n"
      ],
      "metadata": {
        "id": "bzgFWFZh3pLO"
      }
    },
    {
      "cell_type": "code",
      "source": [
        "x = 4\n",
        "# x is the variable to match\n",
        "match x:\n",
        "    # if x is 0\n",
        "    case 0:\n",
        "        print(\"x is zero\")\n",
        "    # case with if-condition\n",
        "    case 4 if x % 2 == 0:\n",
        "        print(\"x % 2 == 0 and case is 4\")\n",
        "    # Empty case with if-condition\n",
        "    case _ if x < 10:\n",
        "        print(\"x is < 10\")\n",
        "    # default case(will only be matched if the above cases were not matched)\n",
        "    # so it is basically just an else:\n",
        "    case _:\n",
        "        print(x)"
      ],
      "metadata": {
        "id": "iRqSCAvr40Qq",
        "outputId": "ca35e16c-4df5-46f1-b401-f9222a32e688",
        "colab": {
          "base_uri": "https://localhost:8080/"
        }
      },
      "execution_count": null,
      "outputs": [
        {
          "output_type": "stream",
          "name": "stdout",
          "text": [
            "x % 2 == 0 and case is 4\n"
          ]
        }
      ]
    },
    {
      "cell_type": "markdown",
      "source": [
        "**Introduction to Loops**\n",
        "\n",
        "\n",
        "---\n",
        "Sometimes a programmer wants to execute a group of statements a certain number of times. This can be done using loops. Based on this loops are further classified into following main types;\n",
        "\n",
        "*   for loop\n",
        "*   while loop\n",
        "\n",
        "**The for Loop**\n",
        "\n",
        "for loops can iterate over a sequence of iterable objects in python. Iterating over a sequence is nothing but iterating over strings, lists, tuples, sets and dictionaries.\n"
      ],
      "metadata": {
        "id": "rmFFyR0F1k6z"
      }
    },
    {
      "cell_type": "markdown",
      "source": [
        "**Example: iterating over a string:**"
      ],
      "metadata": {
        "id": "N6xbl_PX2AYy"
      }
    },
    {
      "cell_type": "code",
      "source": [
        "name = 'Abhishek'\n",
        "for i in name:\n",
        "    print(i, end=\", \")"
      ],
      "metadata": {
        "colab": {
          "base_uri": "https://localhost:8080/"
        },
        "id": "4Bs8_cPH2DIQ",
        "outputId": "62446f38-144f-4542-ed88-446a51c76c55"
      },
      "execution_count": null,
      "outputs": [
        {
          "output_type": "stream",
          "name": "stdout",
          "text": [
            "A, b, h, i, s, h, e, k, "
          ]
        }
      ]
    },
    {
      "cell_type": "markdown",
      "source": [
        "**Example: iterating over a list:**"
      ],
      "metadata": {
        "id": "-8HtC7JE2Nfk"
      }
    },
    {
      "cell_type": "code",
      "source": [
        "colors = [\"Red\", \"Green\", \"Blue\", \"Yellow\"]\n",
        "for x in colors:\n",
        "    print(x)"
      ],
      "metadata": {
        "colab": {
          "base_uri": "https://localhost:8080/"
        },
        "id": "cSDFshV02PLG",
        "outputId": "e2bfbe5c-c0b5-48aa-85ea-1abb174582e6"
      },
      "execution_count": null,
      "outputs": [
        {
          "output_type": "stream",
          "name": "stdout",
          "text": [
            "Red\n",
            "Green\n",
            "Blue\n",
            "Yellow\n"
          ]
        }
      ]
    },
    {
      "cell_type": "markdown",
      "source": [
        "**range():**\n",
        "In Python, range() is a built-in function used to generate a sequence of numbers. It's commonly used with a for loop to iterate over a range of values."
      ],
      "metadata": {
        "id": "fOkt4QYo2bZd"
      }
    },
    {
      "cell_type": "markdown",
      "source": [
        "**Example:**"
      ],
      "metadata": {
        "id": "N2E4vIbL21Fb"
      }
    },
    {
      "cell_type": "code",
      "source": [
        "for k in range(5):\n",
        "    print(k)"
      ],
      "metadata": {
        "colab": {
          "base_uri": "https://localhost:8080/"
        },
        "id": "9RzH6YHQ22pM",
        "outputId": "d64bba0d-a724-4899-8f28-d60a4a7eb189"
      },
      "execution_count": null,
      "outputs": [
        {
          "output_type": "stream",
          "name": "stdout",
          "text": [
            "0\n",
            "1\n",
            "2\n",
            "3\n",
            "4\n"
          ]
        }
      ]
    },
    {
      "cell_type": "markdown",
      "source": [
        "Here, we can see that the loop starts from 0 by default and increments at each iteration.\n",
        "\n",
        "But we can also loop over a specific range."
      ],
      "metadata": {
        "id": "iKvA6pNG27y9"
      }
    },
    {
      "cell_type": "code",
      "source": [
        "for k in range(4,9):\n",
        "    print(k)"
      ],
      "metadata": {
        "colab": {
          "base_uri": "https://localhost:8080/"
        },
        "id": "-_xbUzJP3ACh",
        "outputId": "17ae3fc4-44fb-4f57-a50d-de0e879713c5"
      },
      "execution_count": null,
      "outputs": [
        {
          "output_type": "stream",
          "name": "stdout",
          "text": [
            "4\n",
            "5\n",
            "6\n",
            "7\n",
            "8\n"
          ]
        }
      ]
    },
    {
      "cell_type": "markdown",
      "source": [
        "**what happend if we use range(x, y, z)?**\n",
        "\n",
        "The third parameter, z, in range(x, y, z) controls the step or increment between numbers in the sequence. If not specified, the default is **1**\n"
      ],
      "metadata": {
        "id": "Dm1IniJK3L1P"
      }
    },
    {
      "cell_type": "code",
      "source": [
        "for i in range(1, 10, 2):\n",
        "    print(i)\n"
      ],
      "metadata": {
        "colab": {
          "base_uri": "https://localhost:8080/"
        },
        "id": "U8rr8W043cBZ",
        "outputId": "ebcf5d51-ec50-4fdf-d9f7-1978cb427070"
      },
      "execution_count": null,
      "outputs": [
        {
          "output_type": "stream",
          "name": "stdout",
          "text": [
            "1\n",
            "3\n",
            "5\n",
            "7\n",
            "9\n"
          ]
        }
      ]
    },
    {
      "cell_type": "markdown",
      "source": [
        "**Python while Loop:**\n",
        "\n",
        "while loops execute statements while the condition is True. As soon as the condition becomes False, the interpreter comes out of the while loop."
      ],
      "metadata": {
        "id": "kAKUcVo53uHi"
      }
    },
    {
      "cell_type": "code",
      "source": [
        "count = 5\n",
        "while (count > 0):\n",
        "  print(count)\n",
        "  count = count - 1"
      ],
      "metadata": {
        "colab": {
          "base_uri": "https://localhost:8080/"
        },
        "id": "x4IeZAKY31tw",
        "outputId": "dc743589-1138-4d2c-a196-983487506968"
      },
      "execution_count": null,
      "outputs": [
        {
          "output_type": "stream",
          "name": "stdout",
          "text": [
            "5\n",
            "4\n",
            "3\n",
            "2\n",
            "1\n"
          ]
        }
      ]
    },
    {
      "cell_type": "markdown",
      "source": [
        "**Else with While Loop:**\n",
        "\n",
        "We can even use the else statement with the while loop. Essentially what the else statement does is that as soon as the while loop condition becomes False, the interpreter comes out of the while loop and the else statement is executed."
      ],
      "metadata": {
        "id": "5FY7oHjb3-0Y"
      }
    },
    {
      "cell_type": "code",
      "source": [
        "x = 5\n",
        "while (x > 0):\n",
        "    print(x)\n",
        "    x = x - 1\n",
        "else:\n",
        "    print('counter is 0')"
      ],
      "metadata": {
        "colab": {
          "base_uri": "https://localhost:8080/"
        },
        "id": "Yc4vuLNa4Ij7",
        "outputId": "84f41613-61a2-4a10-b7ce-8ceaa543ec21"
      },
      "execution_count": null,
      "outputs": [
        {
          "output_type": "stream",
          "name": "stdout",
          "text": [
            "5\n",
            "4\n",
            "3\n",
            "2\n",
            "1\n",
            "counter is 0\n"
          ]
        }
      ]
    },
    {
      "cell_type": "markdown",
      "source": [
        "**Do-While loop in python:**\n",
        "\n",
        "Python does not have a built-in \"do-while\" loop like some other programming languages. Instead, you can achieve similar functionality using a \"while\" loop in combination with a conditional statement.\n",
        "\n",
        "Here's a simple and short way to simulate a \"do-while\" loop in Python:\n",
        "\n",
        "\n",
        "\n",
        "```\n",
        "while True:\n",
        "    # Code block to be executed\n",
        "    # This will always run at least once\n",
        "    \n",
        "    if not condition:\n",
        "        break  # Exit loop when condition is not met\n",
        "```\n",
        "\n",
        "In this construct, the code block will always run at least once, similar to a \"do-while\" loop. The break statement is used to exit the loop when the desired condition is met."
      ],
      "metadata": {
        "id": "S0WXxSN94kLm"
      }
    },
    {
      "cell_type": "code",
      "source": [
        "while True:\n",
        "  number = int(input(\"Enter a positive number: \"))\n",
        "  print(number)\n",
        "  if not number > 0:\n",
        "    break"
      ],
      "metadata": {
        "colab": {
          "base_uri": "https://localhost:8080/"
        },
        "id": "tojPIeYc42lO",
        "outputId": "bdd3f019-136f-49de-aed9-c65ef296bb79"
      },
      "execution_count": null,
      "outputs": [
        {
          "output_type": "stream",
          "name": "stdout",
          "text": [
            "Enter a positive number: 3\n",
            "3\n",
            "Enter a positive number: 0\n",
            "0\n"
          ]
        }
      ]
    },
    {
      "cell_type": "markdown",
      "source": [
        "**break statement**\n",
        "\n",
        "The break statement enables a program to skip over a part of the code. A break statement terminates the very loop it lies within."
      ],
      "metadata": {
        "id": "0kdzuoH85Qqb"
      }
    },
    {
      "cell_type": "code",
      "source": [
        "for i in range(1,101,1):\n",
        "    print(i ,end=\" \")\n",
        "    if(i==50):\n",
        "        break\n",
        "    else:\n",
        "        print(\"Mississippi\")\n",
        "print(\"Thank you\")"
      ],
      "metadata": {
        "colab": {
          "base_uri": "https://localhost:8080/"
        },
        "id": "-RdVFFiC5aZI",
        "outputId": "a70f33c8-76d4-4195-8610-c95ac9dd35e4"
      },
      "execution_count": null,
      "outputs": [
        {
          "output_type": "stream",
          "name": "stdout",
          "text": [
            "1 Mississippi\n",
            "2 Mississippi\n",
            "3 Mississippi\n",
            "4 Mississippi\n",
            "5 Mississippi\n",
            "6 Mississippi\n",
            "7 Mississippi\n",
            "8 Mississippi\n",
            "9 Mississippi\n",
            "10 Mississippi\n",
            "11 Mississippi\n",
            "12 Mississippi\n",
            "13 Mississippi\n",
            "14 Mississippi\n",
            "15 Mississippi\n",
            "16 Mississippi\n",
            "17 Mississippi\n",
            "18 Mississippi\n",
            "19 Mississippi\n",
            "20 Mississippi\n",
            "21 Mississippi\n",
            "22 Mississippi\n",
            "23 Mississippi\n",
            "24 Mississippi\n",
            "25 Mississippi\n",
            "26 Mississippi\n",
            "27 Mississippi\n",
            "28 Mississippi\n",
            "29 Mississippi\n",
            "30 Mississippi\n",
            "31 Mississippi\n",
            "32 Mississippi\n",
            "33 Mississippi\n",
            "34 Mississippi\n",
            "35 Mississippi\n",
            "36 Mississippi\n",
            "37 Mississippi\n",
            "38 Mississippi\n",
            "39 Mississippi\n",
            "40 Mississippi\n",
            "41 Mississippi\n",
            "42 Mississippi\n",
            "43 Mississippi\n",
            "44 Mississippi\n",
            "45 Mississippi\n",
            "46 Mississippi\n",
            "47 Mississippi\n",
            "48 Mississippi\n",
            "49 Mississippi\n",
            "50 Thank you\n"
          ]
        }
      ]
    },
    {
      "cell_type": "markdown",
      "source": [
        "**Continue Statement:**\n",
        "\n",
        "The continue statement skips the rest of the loop statements and causes the next iteration to occur."
      ],
      "metadata": {
        "id": "rfEyEApr5i0L"
      }
    },
    {
      "cell_type": "code",
      "source": [
        "for i in [2,3,4,6,8,0]:\n",
        "    if (i%2!=0):\n",
        "        continue\n",
        "    print(i)"
      ],
      "metadata": {
        "colab": {
          "base_uri": "https://localhost:8080/"
        },
        "id": "-4OLoa1f5mRj",
        "outputId": "3b421342-b338-472e-815e-3e23d53f2add"
      },
      "execution_count": null,
      "outputs": [
        {
          "output_type": "stream",
          "name": "stdout",
          "text": [
            "2\n",
            "4\n",
            "6\n",
            "8\n",
            "0\n"
          ]
        }
      ]
    },
    {
      "cell_type": "markdown",
      "source": [
        "**Python Functions:**\n",
        "\n",
        "---\n",
        "A function is a block of code that performs a specific task whenever it is called. In bigger programs, where we have large amounts of code, it is advisable to create or use existing functions that make the program flow organized and neat.\n",
        "\n",
        "There are two types of functions:\n",
        "\n",
        "1.   Built-in functions\n",
        "2.   User-defined functions"
      ],
      "metadata": {
        "id": "jdkFtd8S5xDf"
      }
    },
    {
      "cell_type": "markdown",
      "source": [
        "**Built-in functions:**\n",
        "\n",
        "---\n",
        "These functions are defined and pre-coded in python. Some examples of built-in functions are as follows:\n",
        "\n",
        "min(), max(), len(), sum(), type(), range(), dict(), list(), tuple(), set(), print(), etc.\n"
      ],
      "metadata": {
        "id": "wa_-T_l86Adr"
      }
    },
    {
      "cell_type": "markdown",
      "source": [
        "**User-defined functions:**\n",
        "\n",
        "---\n",
        "\n",
        "We can create functions to perform specific tasks as per our needs. Such functions are called user-defined functions.\n",
        "\n",
        "\n",
        "\n",
        "```\n",
        "def function_name(parameters):\n",
        "  pass\n",
        "  # Code and Statements\n",
        "```\n",
        "\n",
        "* Create a function using the def keyword, followed by a function name, followed by a paranthesis (()) and a colon(:).\n",
        "* Any parameters and arguments should be placed within the parentheses.\n",
        "* Rules to naming function are similar to that of naming variables.\n",
        "* Any statements and other code within the function should be indented.\n"
      ],
      "metadata": {
        "id": "PYg9dJd-6GUD"
      }
    },
    {
      "cell_type": "markdown",
      "source": [
        "**Calling a function:**\n",
        "\n",
        "---\n",
        "\n",
        "We call a function by giving the function name, followed by parameters (if any) in the parenthesis."
      ],
      "metadata": {
        "id": "IldadpWB6jR0"
      }
    },
    {
      "cell_type": "code",
      "source": [
        "def name(fname, lname):\n",
        "    print(\"Hello,\", fname, lname)\n",
        "\n",
        "name(\"Sam\", \"Wilson\")"
      ],
      "metadata": {
        "id": "XCkTH2x66rMO",
        "outputId": "4c08976d-f1de-45c2-e8df-c377c15a009e",
        "colab": {
          "base_uri": "https://localhost:8080/"
        }
      },
      "execution_count": null,
      "outputs": [
        {
          "output_type": "stream",
          "name": "stdout",
          "text": [
            "Hello, Sam Wilson\n"
          ]
        }
      ]
    },
    {
      "cell_type": "markdown",
      "source": [
        "**Function Arguments and return statement**\n",
        "\n",
        "---\n",
        "There are four types of arguments that we can provide in a function:\n",
        "\n",
        "* Default Arguments\n",
        "* Keyword Arguments\n",
        "* Variable length Arguments\n",
        "* Required Arguments\n"
      ],
      "metadata": {
        "id": "nQGcLoQt2izp"
      }
    },
    {
      "cell_type": "markdown",
      "source": [
        "**Default arguments:**\n",
        "\n",
        "We can provide a default value while creating a function. This way the function assumes a default value even if a value is not provided in the function call for that argument."
      ],
      "metadata": {
        "id": "TOnlUWPZ2wQ2"
      }
    },
    {
      "cell_type": "code",
      "source": [
        "def name(fname, mname = \"Jhon\", lname = \"Whatson\"):\n",
        "    print(\"Hello,\", fname, mname, lname)\n",
        "\n",
        "name(\"Amy\")"
      ],
      "metadata": {
        "colab": {
          "base_uri": "https://localhost:8080/"
        },
        "id": "wlRW7Vqg24Fk",
        "outputId": "5d9471a6-72fa-4941-8a2f-595b747d2a74"
      },
      "execution_count": null,
      "outputs": [
        {
          "output_type": "stream",
          "name": "stdout",
          "text": [
            "Hello, Amy Jhon Whatson\n"
          ]
        }
      ]
    },
    {
      "cell_type": "markdown",
      "source": [
        "**Keyword arguments:**\n",
        "\n",
        "We can provide arguments with key = value, this way the interpreter recognizes the arguments by the parameter name. Hence, the the order in which the arguments are passed does not matter."
      ],
      "metadata": {
        "id": "GFOucRR93BBo"
      }
    },
    {
      "cell_type": "code",
      "source": [
        "def name(fname, mname, lname):\n",
        "    print(\"Hello,\", fname, mname, lname)\n",
        "\n",
        "name(mname = \"Peter\", lname = \"Wesker\", fname = \"Jade\")"
      ],
      "metadata": {
        "colab": {
          "base_uri": "https://localhost:8080/"
        },
        "id": "s7FGpXig3HsB",
        "outputId": "17603e0b-85af-4bab-96b4-849b94d4b13f"
      },
      "execution_count": null,
      "outputs": [
        {
          "output_type": "stream",
          "name": "stdout",
          "text": [
            "Hello, Jade Peter Wesker\n"
          ]
        }
      ]
    },
    {
      "cell_type": "markdown",
      "source": [
        "**Required arguments:**\n",
        "\n",
        "In case we don’t pass the arguments with a key = value syntax, then it is necessary to pass the arguments in the correct positional order and the number of arguments passed should match with actual function definition."
      ],
      "metadata": {
        "id": "x8ix52ZA3VDO"
      }
    },
    {
      "cell_type": "markdown",
      "source": [
        "**Example 1:**\n",
        "\n",
        "When number of arguments passed does not match to the actual function definition."
      ],
      "metadata": {
        "id": "v1VSMldC3aN3"
      }
    },
    {
      "cell_type": "code",
      "source": [
        "def name(fname, mname, lname):\n",
        "    print(\"Hello,\", fname, mname, lname)\n",
        "\n",
        "name(\"Peter\", \"Quill\")"
      ],
      "metadata": {
        "id": "4dLW0cDp3dxu"
      },
      "execution_count": null,
      "outputs": []
    },
    {
      "cell_type": "markdown",
      "source": [
        "**Example 2:**\n",
        "\n",
        "When number of arguments passed matches to the actual function definition."
      ],
      "metadata": {
        "id": "Uub7DjOU3lsR"
      }
    },
    {
      "cell_type": "code",
      "source": [
        "def name(fname, mname, lname):\n",
        "    print(\"Hello,\", fname, mname, lname)\n",
        "\n",
        "name(\"Peter\", \"Ego\", \"Quill\")"
      ],
      "metadata": {
        "colab": {
          "base_uri": "https://localhost:8080/"
        },
        "id": "I-n5oZey3vaK",
        "outputId": "0626dfc6-afcc-4e69-9c0b-5067ec288354"
      },
      "execution_count": null,
      "outputs": [
        {
          "output_type": "stream",
          "name": "stdout",
          "text": [
            "Hello, Peter Ego Quill\n"
          ]
        }
      ]
    },
    {
      "cell_type": "markdown",
      "source": [
        "**Variable-length arguments:**\n",
        "\n",
        "Sometimes we may need to pass more arguments than those defined in the actual function. This can be done using variable-length arguments.\n",
        "\n",
        "There are two ways to achieve this:\n",
        "\n",
        "**Arbitrary Arguments:**\n",
        "\n",
        "While creating a function, pass a * before the parameter name while defining the function. The function accesses the arguments by processing them in the form of tuple.\n",
        "\n",
        "**Example:**"
      ],
      "metadata": {
        "id": "8MuUs1VY35OR"
      }
    },
    {
      "cell_type": "code",
      "source": [
        "def name(*name):\n",
        "    print(\"Hello,\", name[0], name[1], name[2])\n",
        "\n",
        "name(\"James\", \"Buchanan\", \"Barnes\")"
      ],
      "metadata": {
        "colab": {
          "base_uri": "https://localhost:8080/"
        },
        "id": "dFtObknv4K1Y",
        "outputId": "30368068-ccd8-4d15-b344-61e5ef1cf0af"
      },
      "execution_count": null,
      "outputs": [
        {
          "output_type": "stream",
          "name": "stdout",
          "text": [
            "Hello, James Buchanan Barnes\n"
          ]
        }
      ]
    },
    {
      "cell_type": "markdown",
      "source": [
        "**Keyword Arbitrary Arguments:**\n",
        "\n",
        "While creating a function, pass a * before the parameter name while defining the function. The function accesses the arguments by processing them in the form of dictionary."
      ],
      "metadata": {
        "id": "V4uykOEC4S_u"
      }
    },
    {
      "cell_type": "code",
      "source": [
        "def name(**name):\n",
        "    print(\"Hello,\", name[\"fname\"], name[\"mname\"], name[\"lname\"])\n",
        "\n",
        "name(mname = \"Buchanan\", lname = \"Barnes\", fname = \"James\")"
      ],
      "metadata": {
        "colab": {
          "base_uri": "https://localhost:8080/"
        },
        "id": "LQNNLfUu4Wiv",
        "outputId": "6a4b688b-a89b-42e5-b96f-2d9841dffe9e"
      },
      "execution_count": null,
      "outputs": [
        {
          "output_type": "stream",
          "name": "stdout",
          "text": [
            "Hello, James Buchanan Barnes\n"
          ]
        }
      ]
    },
    {
      "cell_type": "markdown",
      "source": [
        "**return Statement**\n",
        "\n",
        "\n",
        "---\n",
        "\n",
        "The return statement is used to return the value of the expression back to the calling function."
      ],
      "metadata": {
        "id": "6YrnIxvV4Zrx"
      }
    },
    {
      "cell_type": "code",
      "source": [
        "def name(fname, mname, lname):\n",
        "    return \"Hello, \" + fname + \" \" + mname + \" \" + lname\n",
        "\n",
        "print(name(\"James\", \"Buchanan\", \"Barnes\"))"
      ],
      "metadata": {
        "colab": {
          "base_uri": "https://localhost:8080/"
        },
        "id": "Nt3O0Yjs4f5w",
        "outputId": "de0aa123-bfd9-43d7-9996-939cdfa1ad36"
      },
      "execution_count": null,
      "outputs": [
        {
          "output_type": "stream",
          "name": "stdout",
          "text": [
            "Hello, James Buchanan Barnes\n"
          ]
        }
      ]
    },
    {
      "cell_type": "markdown",
      "source": [
        "**Python Lists**\n",
        "\n",
        "---\n",
        "* Lists are ordered collection of data items.\n",
        "* They store multiple items in a single variable.\n",
        "* List items are separated by commas and enclosed within square brackets [].\n",
        "* Lists are changeable meaning we can alter them after creation.\n"
      ],
      "metadata": {
        "id": "_fslSsC_uyMJ"
      }
    },
    {
      "cell_type": "code",
      "source": [
        "lst1 = [1,2,2,3,5,4,6]\n",
        "lst2 = [\"Red\", \"Green\", \"Blue\"]\n",
        "print(lst1)\n",
        "print(lst2)"
      ],
      "metadata": {
        "colab": {
          "base_uri": "https://localhost:8080/"
        },
        "id": "_Ze-zETku9dJ",
        "outputId": "edce04d5-052e-4dc5-ab6f-7593b7ec3020"
      },
      "execution_count": null,
      "outputs": [
        {
          "output_type": "stream",
          "name": "stdout",
          "text": [
            "[1, 2, 2, 3, 5, 4, 6]\n",
            "['Red', 'Green', 'Blue']\n"
          ]
        }
      ]
    },
    {
      "cell_type": "code",
      "source": [
        "details = [\"Abhijeet\", 18, \"FYBScIT\", 9.8]\n",
        "print(details)"
      ],
      "metadata": {
        "colab": {
          "base_uri": "https://localhost:8080/"
        },
        "id": "MmW9apNpvB92",
        "outputId": "f60ab1e0-5312-49f5-95ac-453af6aee11c"
      },
      "execution_count": null,
      "outputs": [
        {
          "output_type": "stream",
          "name": "stdout",
          "text": [
            "['Abhijeet', 18, 'FYBScIT', 9.8]\n"
          ]
        }
      ]
    },
    {
      "cell_type": "markdown",
      "source": [
        "**List Index**\n",
        "Each item/element in a list has its own unique index. This index can be used to access any particular item from the list. The first item has index [0], second item has index [1], third item has index [2] and so on."
      ],
      "metadata": {
        "id": "k-y2jSOfvGUg"
      }
    },
    {
      "cell_type": "code",
      "source": [
        "colors = [\"Red\", \"Green\", \"Blue\", \"Yellow\", \"Green\"]\n",
        "#          [0]      [1]     [2]      [3]      [4]"
      ],
      "metadata": {
        "id": "TfdwPdX5vF-N"
      },
      "execution_count": null,
      "outputs": []
    },
    {
      "cell_type": "markdown",
      "source": [
        "**Accessing list items**\n",
        "\n",
        "---\n",
        "\n",
        "We can access list items by using its index with the square bracket syntax []. For example colors[0] will give \"Red\", colors[1] will give \"Green\" and so on...\n",
        "\n",
        "**Positive Indexing:**\n",
        "As we have seen that list items have index, as such we can access items using these indexes."
      ],
      "metadata": {
        "id": "xXY0blsBvPLz"
      }
    },
    {
      "cell_type": "code",
      "source": [
        "colors = [\"Red\", \"Green\", \"Blue\", \"Yellow\", \"Green\"]\n",
        "#          [0]      [1]     [2]      [3]      [4]\n",
        "print(colors[2])\n",
        "print(colors[4])\n",
        "print(colors[0])"
      ],
      "metadata": {
        "colab": {
          "base_uri": "https://localhost:8080/"
        },
        "id": "hy00iY-avb7-",
        "outputId": "a5e60793-ae4f-4563-f849-182af2b06d88"
      },
      "execution_count": null,
      "outputs": [
        {
          "output_type": "stream",
          "name": "stdout",
          "text": [
            "Blue\n",
            "Green\n",
            "Red\n"
          ]
        }
      ]
    },
    {
      "cell_type": "markdown",
      "source": [
        "**Negative Indexing:** Similar to positive indexing, negative indexing is also used to access items, but from the end of the list. The last item has index [-1], second last item has index [-2], third last item has index [-3] and so on."
      ],
      "metadata": {
        "id": "ExeMfHx4vfnf"
      }
    },
    {
      "cell_type": "code",
      "source": [
        "colors = [\"Red\", \"Green\", \"Blue\", \"Yellow\", \"Green\"]\n",
        "#          [-5]    [-4]    [-3]     [-2]      [-1]\n",
        "print(colors[-1])\n",
        "print(colors[-3])\n",
        "print(colors[-5])"
      ],
      "metadata": {
        "colab": {
          "base_uri": "https://localhost:8080/"
        },
        "id": "aGcjLWTcvltC",
        "outputId": "9d81d07f-8ed9-41d3-ef5d-657947a8441f"
      },
      "execution_count": null,
      "outputs": [
        {
          "output_type": "stream",
          "name": "stdout",
          "text": [
            "Green\n",
            "Blue\n",
            "Red\n"
          ]
        }
      ]
    },
    {
      "cell_type": "markdown",
      "source": [
        "**Check whether an item in present in the list?**\n",
        "We can check if a given item is present in the list. This is done using the in keyword."
      ],
      "metadata": {
        "id": "QqiBcbGzvqgB"
      }
    },
    {
      "cell_type": "code",
      "source": [
        "colors = [\"Red\", \"Green\", \"Blue\", \"Yellow\", \"Green\"]\n",
        "if \"Yellow\" in colors:\n",
        "    print(\"Yellow is present.\")\n",
        "else:\n",
        "    print(\"Yellow is absent.\")"
      ],
      "metadata": {
        "colab": {
          "base_uri": "https://localhost:8080/"
        },
        "id": "N9argMxvvz_l",
        "outputId": "9db688e1-8e12-4b49-98a9-d89af24b9acd"
      },
      "execution_count": null,
      "outputs": [
        {
          "output_type": "stream",
          "name": "stdout",
          "text": [
            "Yellow is present.\n"
          ]
        }
      ]
    },
    {
      "cell_type": "code",
      "source": [
        "colors = [\"Red\", \"Green\", \"Blue\", \"Yellow\", \"Green\"]\n",
        "if \"Orange\" in colors:\n",
        "    print(\"Orange is present.\")\n",
        "else:\n",
        "    print(\"Orange is absent.\")"
      ],
      "metadata": {
        "colab": {
          "base_uri": "https://localhost:8080/"
        },
        "id": "VgNhpRCOv37y",
        "outputId": "dc77e14c-5e69-47a7-cca1-995be4a6c8b3"
      },
      "execution_count": null,
      "outputs": [
        {
          "output_type": "stream",
          "name": "stdout",
          "text": [
            "Orange is absent.\n"
          ]
        }
      ]
    },
    {
      "cell_type": "markdown",
      "source": [
        "**Range of Index:**\n",
        "\n",
        "---\n",
        "You can print a range of list items by specifying where you want to start, where do you want to end and if you want to skip elements in between the range.\n",
        "\n",
        "\n",
        "\n",
        "```\n",
        "listName[start : end : jumpIndex]\n",
        "```\n",
        "Note: jump Index is optional. We will see this in later examples."
      ],
      "metadata": {
        "id": "i-wZquxjv7u_"
      }
    },
    {
      "cell_type": "code",
      "source": [
        "animals = [\"cat\", \"dog\", \"bat\", \"mouse\", \"pig\", \"horse\", \"donkey\", \"goat\", \"cow\"]\n",
        "print(animals[3:7])\t#using positive indexes\n",
        "print(animals[-7:-2])\t#using negative indexes'"
      ],
      "metadata": {
        "colab": {
          "base_uri": "https://localhost:8080/"
        },
        "id": "3eqlu6z0wJUK",
        "outputId": "ffa7ae20-f812-4650-b7cd-7623db3c29e3"
      },
      "execution_count": null,
      "outputs": [
        {
          "output_type": "stream",
          "name": "stdout",
          "text": [
            "['mouse', 'pig', 'horse', 'donkey']\n",
            "['bat', 'mouse', 'pig', 'horse', 'donkey']\n"
          ]
        }
      ]
    },
    {
      "cell_type": "markdown",
      "source": [
        "**Example: printing all element from a given index till the end**"
      ],
      "metadata": {
        "id": "cpvFZYjnwXQA"
      }
    },
    {
      "cell_type": "code",
      "source": [
        "animals = [\"cat\", \"dog\", \"bat\", \"mouse\", \"pig\", \"horse\", \"donkey\", \"goat\", \"cow\"]\n",
        "print(animals[4:])\t#using positive indexes\n",
        "print(animals[-4:])\t#using negative indexes"
      ],
      "metadata": {
        "colab": {
          "base_uri": "https://localhost:8080/"
        },
        "id": "LcKbBjeMwbDJ",
        "outputId": "38454946-10bf-43f0-9aca-38bbe270a67e"
      },
      "execution_count": null,
      "outputs": [
        {
          "output_type": "stream",
          "name": "stdout",
          "text": [
            "['pig', 'horse', 'donkey', 'goat', 'cow']\n",
            "['horse', 'donkey', 'goat', 'cow']\n"
          ]
        }
      ]
    },
    {
      "cell_type": "markdown",
      "source": [
        "When no end index is provided, the interpreter prints all the values till the end."
      ],
      "metadata": {
        "id": "4O3gpGYNwnxM"
      }
    },
    {
      "cell_type": "markdown",
      "source": [
        "**Example: printing all elements from start to a given index**"
      ],
      "metadata": {
        "id": "W4b4uD6cwowu"
      }
    },
    {
      "cell_type": "code",
      "source": [
        "animals = [\"cat\", \"dog\", \"bat\", \"mouse\", \"pig\", \"horse\", \"donkey\", \"goat\", \"cow\"]\n",
        "print(animals[:6])\t#using positive indexes\n",
        "print(animals[:-3])\t#using negative indexes"
      ],
      "metadata": {
        "colab": {
          "base_uri": "https://localhost:8080/"
        },
        "id": "ouFpJOJ9wq93",
        "outputId": "55518fc9-73fd-4321-a1a0-093d3d108088"
      },
      "execution_count": null,
      "outputs": [
        {
          "output_type": "stream",
          "name": "stdout",
          "text": [
            "['cat', 'dog', 'bat', 'mouse', 'pig', 'horse']\n",
            "['cat', 'dog', 'bat', 'mouse', 'pig', 'horse']\n"
          ]
        }
      ]
    },
    {
      "cell_type": "markdown",
      "source": [
        "When no start index is provided, the interpreter prints all the values from start up to the end index provided."
      ],
      "metadata": {
        "id": "vLAHTD4uwwby"
      }
    },
    {
      "cell_type": "markdown",
      "source": [
        "**Example: Printing alternate values**"
      ],
      "metadata": {
        "id": "iKwwOfLAwx8T"
      }
    },
    {
      "cell_type": "code",
      "source": [
        "animals = [\"cat\", \"dog\", \"bat\", \"mouse\", \"pig\", \"horse\", \"donkey\", \"goat\", \"cow\"]\n",
        "print(animals[::2])\t\t#using positive indexes\n",
        "print(animals[-8:-1:2])\t#using negative indexes\n",
        "print(animals[-8])"
      ],
      "metadata": {
        "colab": {
          "base_uri": "https://localhost:8080/"
        },
        "id": "mk_rfWKdwxWC",
        "outputId": "a1d2dafc-a1b1-4333-ac47-2aef5b1f0a8b"
      },
      "execution_count": null,
      "outputs": [
        {
          "output_type": "stream",
          "name": "stdout",
          "text": [
            "['cat', 'bat', 'pig', 'donkey', 'cow']\n",
            "['dog', 'mouse', 'horse', 'goat']\n",
            "dog\n"
          ]
        }
      ]
    },
    {
      "cell_type": "markdown",
      "source": [
        "Here, we have not provided start and index, which means all the values will be considered. But as we have provided a jump index of 2 only alternate values will be printed."
      ],
      "metadata": {
        "id": "j7aOG4psxlKz"
      }
    },
    {
      "cell_type": "markdown",
      "source": [
        "**Example: printing every 3rd consecutive value withing a given range**"
      ],
      "metadata": {
        "id": "ix7dWYH9xodI"
      }
    },
    {
      "cell_type": "code",
      "source": [
        "animals = [\"cat\", \"dog\", \"bat\", \"mouse\", \"pig\", \"horse\", \"donkey\", \"goat\", \"cow\"]\n",
        "print(animals[1:8:3])"
      ],
      "metadata": {
        "colab": {
          "base_uri": "https://localhost:8080/"
        },
        "id": "HJ-08mk9xmrE",
        "outputId": "a3339e54-ff4f-4ac4-c06d-44302cecb3f7"
      },
      "execution_count": null,
      "outputs": [
        {
          "output_type": "stream",
          "name": "stdout",
          "text": [
            "['dog', 'pig', 'goat']\n"
          ]
        }
      ]
    },
    {
      "cell_type": "markdown",
      "source": [
        "**List Comprehension**\n",
        "\n",
        "---\n",
        "\n",
        "List comprehensions are used for creating new lists from other iterables like lists, tuples, dictionaries, sets, and even in arrays and strings.\n",
        "\n",
        "**Syntax:**\n",
        "\n",
        "\n",
        "\n",
        "```\n",
        "List = [Expression(item) for item in iterable if Condition]\n",
        "```\n",
        "**Expression:** It is the item which is being iterated.\n",
        "\n",
        "**Iterable:** It can be list, tuples, dictionaries, sets, and even in arrays and strings.\n",
        "\n",
        "**Condition:** Condition checks if the item should be added to the new list or not.\n"
      ],
      "metadata": {
        "id": "_0k860nMxyEV"
      }
    },
    {
      "cell_type": "markdown",
      "source": [
        "**Example 1: Accepts items with the small letter “o” in the new list**"
      ],
      "metadata": {
        "id": "isH6JziIyc-4"
      }
    },
    {
      "cell_type": "code",
      "source": [
        "names = [\"Milo\", \"Sarah\", \"Bruno\", \"Anastasia\", \"Rosa\"]\n",
        "namesWith_O = [item for item in names if \"o\" in item]\n",
        "print(namesWith_O)"
      ],
      "metadata": {
        "colab": {
          "base_uri": "https://localhost:8080/"
        },
        "id": "q77_fv6rx2ZC",
        "outputId": "df23bacb-dd47-445e-bcae-3499d9c3170a"
      },
      "execution_count": null,
      "outputs": [
        {
          "output_type": "stream",
          "name": "stdout",
          "text": [
            "['Milo', 'Bruno', 'Rosa']\n"
          ]
        }
      ]
    },
    {
      "cell_type": "markdown",
      "source": [
        "**Example 2: Accepts items which have more than 4 letters**"
      ],
      "metadata": {
        "id": "sQJu7EMqydhx"
      }
    },
    {
      "cell_type": "code",
      "source": [
        "names = [\"Milo\", \"Sarah\", \"Bruno\", \"Anastasia\", \"Rosa\"]\n",
        "namesWith_O = [item for item in names if (len(item) > 4)]\n",
        "print(namesWith_O)"
      ],
      "metadata": {
        "colab": {
          "base_uri": "https://localhost:8080/"
        },
        "id": "QBtVlHymyj_7",
        "outputId": "6537d809-0baf-4701-b147-253379104cf2"
      },
      "execution_count": null,
      "outputs": [
        {
          "output_type": "stream",
          "name": "stdout",
          "text": [
            "['Sarah', 'Bruno', 'Anastasia']\n"
          ]
        }
      ]
    },
    {
      "cell_type": "markdown",
      "source": [
        "**Filtering numbers greater than 10:**"
      ],
      "metadata": {
        "id": "cr2r6qgwzGMN"
      }
    },
    {
      "cell_type": "code",
      "source": [
        "numbers = [5, 12, 8, 20, 3, 15]\n",
        "greater_than_10 = [num for num in numbers if num > 10]\n",
        "print(greater_than_10)  # Output: [12, 20, 15]"
      ],
      "metadata": {
        "colab": {
          "base_uri": "https://localhost:8080/"
        },
        "id": "gv1AfNeQzIKu",
        "outputId": "3c2d361f-b78b-4d6a-bc03-bd888b60030c"
      },
      "execution_count": null,
      "outputs": [
        {
          "output_type": "stream",
          "name": "stdout",
          "text": [
            "[12, 20, 15]\n"
          ]
        }
      ]
    },
    {
      "cell_type": "markdown",
      "source": [
        "**Squaring numbers:**"
      ],
      "metadata": {
        "id": "MBa4H8-wzNxc"
      }
    },
    {
      "cell_type": "code",
      "source": [
        "numbers = [1, 2, 3, 4, 5]\n",
        "squared_numbers = [num**2 for num in numbers]\n",
        "print(squared_numbers)  # Output: [1, 4, 9, 16, 25]"
      ],
      "metadata": {
        "colab": {
          "base_uri": "https://localhost:8080/"
        },
        "id": "0zJ_huPZzMUN",
        "outputId": "3cbf147a-65d3-46a6-a218-bcf442ad98e6"
      },
      "execution_count": null,
      "outputs": [
        {
          "output_type": "stream",
          "name": "stdout",
          "text": [
            "[1, 4, 9, 16, 25]\n"
          ]
        }
      ]
    },
    {
      "cell_type": "markdown",
      "source": [
        "**Converting strings to uppercase:**"
      ],
      "metadata": {
        "id": "KhTqhrcxzVG4"
      }
    },
    {
      "cell_type": "code",
      "source": [
        "words = [\"apple\", \"banana\", \"cherry\"]\n",
        "uppercase_words = [word.upper() for word in words]\n",
        "print(uppercase_words)  # Output: ['APPLE', 'BANANA', 'CHERRY']"
      ],
      "metadata": {
        "colab": {
          "base_uri": "https://localhost:8080/"
        },
        "id": "9ibJgACczXyd",
        "outputId": "1881771a-767b-4193-be52-292538d772b5"
      },
      "execution_count": null,
      "outputs": [
        {
          "output_type": "stream",
          "name": "stdout",
          "text": [
            "['APPLE', 'BANANA', 'CHERRY']\n"
          ]
        }
      ]
    },
    {
      "cell_type": "markdown",
      "source": [
        "**Filtering even numbers:**"
      ],
      "metadata": {
        "id": "JdFTgCH1zXRh"
      }
    },
    {
      "cell_type": "code",
      "source": [
        "numbers = [1, 2, 3, 4, 5]\n",
        "even_numbers = [num for num in numbers if num % 2 == 0]\n",
        "print(even_numbers)  # Output: [2, 4]\n"
      ],
      "metadata": {
        "id": "Q63m9YQTzcfT",
        "outputId": "e3015e79-5178-4f64-e67f-4de25fcb9186",
        "colab": {
          "base_uri": "https://localhost:8080/"
        }
      },
      "execution_count": null,
      "outputs": [
        {
          "output_type": "stream",
          "name": "stdout",
          "text": [
            "[2, 4]\n"
          ]
        }
      ]
    },
    {
      "cell_type": "code",
      "source": [
        "import math\n",
        "def fun(x):\n",
        "  return math.pow(x,3)-x-4\n",
        "\n",
        "def fun2(a,b):\n",
        "  return (a+b)/2"
      ],
      "metadata": {
        "id": "i17sLsvMK5bY"
      },
      "execution_count": null,
      "outputs": []
    },
    {
      "cell_type": "code",
      "source": [
        "print(fun2(1.796,1.798))"
      ],
      "metadata": {
        "colab": {
          "base_uri": "https://localhost:8080/"
        },
        "id": "xcBWKnrAL2U5",
        "outputId": "f2412900-bb05-4428-c77c-b92952c68248"
      },
      "execution_count": null,
      "outputs": [
        {
          "output_type": "stream",
          "name": "stdout",
          "text": [
            "1.7970000000000002\n"
          ]
        }
      ]
    },
    {
      "cell_type": "code",
      "source": [
        "print(fun(1.797))"
      ],
      "metadata": {
        "colab": {
          "base_uri": "https://localhost:8080/"
        },
        "id": "0Vptrk_ALP3G",
        "outputId": "fe48ae0f-6b8e-41a6-c08c-4b700f5b3fd6"
      },
      "execution_count": null,
      "outputs": [
        {
          "output_type": "stream",
          "name": "stdout",
          "text": [
            "0.005888573000000008\n"
          ]
        }
      ]
    }
  ]
}